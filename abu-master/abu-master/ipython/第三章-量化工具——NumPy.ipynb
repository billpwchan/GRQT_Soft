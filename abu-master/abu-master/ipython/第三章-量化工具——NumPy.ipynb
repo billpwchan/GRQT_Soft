{
 "cells": [
  {
   "cell_type": "code",
   "execution_count": null,
   "metadata": {},
   "outputs": [],
   "source": [
    "from __future__ import print_function\n",
    "\n",
    "import os\n",
    "import sys\n",
    "# 使用insert 0即只使用github，避免交叉使用了pip安装的abupy，导致的版本不一致问题\n",
    "sys.path.insert(0, os.path.abspath('../'))\n",
    "import abupy\n",
    "# 使用沙盒数据，目的是和书中一样的数据环境\n",
    "abupy.env.enable_example_env_ipython()\n",
    "\n",
    "import seaborn as sns\n",
    "import matplotlib.pyplot as plt\n",
    "%matplotlib inline\n",
    "sns.set_context(rc={'figure.figsize': (14, 7) } )\n",
    "figzize_me = figsize =(14, 7)\n",
    "# import warnings; warnings.simplefilter('ignore')"
   ]
  },
  {
   "cell_type": "code",
   "execution_count": null,
   "metadata": {},
   "outputs": [],
   "source": [
    "print(sys.version)\n",
    "print('test')"
   ]
  },
  {
   "cell_type": "markdown",
   "metadata": {},
   "source": [
    "# 第3章 量化工具-Numpy\n",
    "\n",
    "[abu量化系统github地址](https://github.com/bbfamily/abu) (您的star是我的动力！)\n",
    "\n",
    "[abu量化文档教程ipython notebook](https://github.com/bbfamily/abu/tree/master/abupy_lecture)"
   ]
  },
  {
   "cell_type": "markdown",
   "metadata": {},
   "source": [
    "## 3.1 并行化思想与基础操作\n",
    "\n",
    "### 3.1.1  并行化思想"
   ]
  },
  {
   "cell_type": "code",
   "execution_count": null,
   "metadata": {},
   "outputs": [],
   "source": [
    "# 如下方式引用numpy是numpy.org推荐的方式                     \n",
    "import numpy as np"
   ]
  },
  {
   "cell_type": "code",
   "execution_count": null,
   "metadata": {},
   "outputs": [],
   "source": [
    "normal_list = range(10000)\n",
    "%timeit [i**2 for i in normal_list]"
   ]
  },
  {
   "cell_type": "code",
   "execution_count": null,
   "metadata": {},
   "outputs": [],
   "source": [
    "np_list = np.arange(10000)\n",
    "%timeit np_list**2"
   ]
  },
  {
   "cell_type": "code",
   "execution_count": null,
   "metadata": {},
   "outputs": [],
   "source": [
    "# 注意 * 3的操作被运行在每一个元素上\n",
    "np_list = np.ones(5) * 3\n",
    "print(np_list)\n",
    "# 普通的列表把*3操作认为是整体性操作\n",
    "normal_list = [1, 1, 1, 1, 1] * 3\n",
    "normal_list, len(normal_list)"
   ]
  },
  {
   "cell_type": "markdown",
   "metadata": {},
   "source": [
    "### 3.1.2 初始化操作"
   ]
  },
  {
   "cell_type": "code",
   "execution_count": null,
   "metadata": {},
   "outputs": [],
   "source": [
    "# 100个0\n",
    "np.zeros(100)\n",
    "# shape：3行2列 全是0\n",
    "np.zeros((3, 2))\n",
    "\n",
    "# shape： 3行2列 全是1\n",
    "np.ones((3, 2))\n",
    "# shape：x=2, y=3, z=3 值随机\n",
    "np.empty((2, 3, 3))\n",
    "\n",
    "# 初始化序列与np_list一样的shape，值全为1\n",
    "np.ones_like(np_list)\n",
    "# 初始化序列与np_list一样的shape，值全为0\n",
    "np.zeros_like(np_list)\n",
    "# eye得到对角线全为1的单位矩阵\n",
    "np.eye(3)"
   ]
  },
  {
   "cell_type": "code",
   "execution_count": null,
   "metadata": {},
   "outputs": [],
   "source": [
    "data = [[1, 2, 3, 4], [5, 6, 7, 8]]\n",
    "arr_np = np.array(data)\n",
    "arr_np"
   ]
  },
  {
   "cell_type": "code",
   "execution_count": null,
   "metadata": {},
   "outputs": [],
   "source": [
    "np.linspace(0, 1, 10)"
   ]
  },
  {
   "cell_type": "code",
   "execution_count": null,
   "metadata": {},
   "outputs": [],
   "source": [
    "# 200支股票\n",
    "stock_cnt = 200\n",
    "# 504个交易日\n",
    "view_days = 504\n",
    "# 生成服从正态分布：均值期望＝0，标准差＝1的序列\n",
    "stock_day_change = np.random.standard_normal((stock_cnt, view_days))\n",
    "# 使用沙盒数据，目的是和书中一样的数据环境，不需要注视掉\n",
    "stock_day_change = np.load('../gen/stock_day_change.npy')\n",
    "# 打印shape (200, 504) 200行504列\n",
    "print(stock_day_change.shape)\n",
    "# 打印出第一支只股票，头五个交易日的涨跌幅情况\n",
    "print(stock_day_change[0:1, :5])"
   ]
  },
  {
   "cell_type": "markdown",
   "metadata": {},
   "source": [
    "### 3.1.3 索引选取和切片选择"
   ]
  },
  {
   "cell_type": "code",
   "execution_count": null,
   "metadata": {},
   "outputs": [],
   "source": [
    "# 0:2第一，第二支股票，0:5头五个交易日的涨跌幅数据\n",
    "stock_day_change[0:2, 0:5]"
   ]
  },
  {
   "cell_type": "code",
   "execution_count": null,
   "metadata": {},
   "outputs": [],
   "source": [
    "# -2:倒数一，第二支股票，-5:最后五个交易日的涨跌幅数据\n",
    "stock_day_change[-2:, -5:]"
   ]
  },
  {
   "cell_type": "code",
   "execution_count": null,
   "metadata": {},
   "outputs": [],
   "source": [
    "# tmp = a\n",
    "tmp = stock_day_change[0:2, 0:5].copy() \n",
    "# a = b\n",
    "stock_day_change[0:2, 0:5] = stock_day_change[-2:, -5:]\n",
    "# b = tmp\n",
    "stock_day_change[-2:, -5:] = tmp\n",
    "# view result\n",
    "stock_day_change[0:2, 0:5], stock_day_change[-2:, -5:]"
   ]
  },
  {
   "cell_type": "markdown",
   "metadata": {},
   "source": [
    "### 3.1.4 数据转换与规整"
   ]
  },
  {
   "cell_type": "code",
   "execution_count": null,
   "metadata": {},
   "outputs": [],
   "source": [
    "print(stock_day_change[0:2, 0:5])\n",
    "stock_day_change[0:2, 0:5].astype(int)"
   ]
  },
  {
   "cell_type": "code",
   "execution_count": null,
   "metadata": {},
   "outputs": [],
   "source": [
    "# 2代表保留两位小数\n",
    "np.around(stock_day_change[0:2, 0:5], 2)"
   ]
  },
  {
   "cell_type": "code",
   "execution_count": null,
   "metadata": {},
   "outputs": [],
   "source": [
    "# 使用copy目的是不修改原始序列\n",
    "tmp_test = stock_day_change[0:2, 0:5].copy()\n",
    "# 将第一个元素改成nan\n",
    "tmp_test[0][0] = np.nan\n",
    "tmp_test"
   ]
  },
  {
   "cell_type": "code",
   "execution_count": null,
   "metadata": {},
   "outputs": [],
   "source": [
    "tmp_test = np.nan_to_num(tmp_test)\n",
    "tmp_test"
   ]
  },
  {
   "cell_type": "markdown",
   "metadata": {},
   "source": [
    "### 3.1.5 逻辑条件进行数据筛选"
   ]
  },
  {
   "cell_type": "code",
   "execution_count": null,
   "metadata": {},
   "outputs": [],
   "source": [
    "# 找出上述切片内涨幅超过0.5的股票时段, 通过输出结果你可以看到返回的是boolean的数组\n",
    "mask = stock_day_change[0:2, 0:5] > 0.5\n",
    "print(mask)"
   ]
  },
  {
   "cell_type": "code",
   "execution_count": null,
   "metadata": {},
   "outputs": [],
   "source": [
    "tmp_test = stock_day_change[0:2, 0:5].copy()\n",
    "# 使用上述的mask数组筛选出符合条件的数组, 即中筛选mask中对应index值为True的\n",
    "tmp_test[mask]"
   ]
  },
  {
   "cell_type": "code",
   "execution_count": null,
   "metadata": {},
   "outputs": [],
   "source": [
    "tmp_test[tmp_test > 0.5] = 1\n",
    "tmp_test"
   ]
  },
  {
   "cell_type": "code",
   "execution_count": null,
   "metadata": {},
   "outputs": [],
   "source": [
    "tmp_test = stock_day_change[-2:, -5:]\n",
    "print(tmp_test)\n",
    "tmp_test[(tmp_test > 1) | (tmp_test < -1)]"
   ]
  },
  {
   "cell_type": "markdown",
   "metadata": {},
   "source": [
    "### 3.1.6 通用序列函数"
   ]
  },
  {
   "cell_type": "code",
   "execution_count": null,
   "metadata": {},
   "outputs": [],
   "source": [
    "# np.all判断序列中的所有元素是否全部是true, 即对bool序列进行与操作\n",
    "# 本例实际判断stock_day_change[0:2, 0:5]中是否全是上涨的\n",
    "np.all(stock_day_change[0:2, 0:5] > 0)"
   ]
  },
  {
   "cell_type": "code",
   "execution_count": null,
   "metadata": {},
   "outputs": [],
   "source": [
    "# np.any判断序列中是否有元素为true, 即对bool序列进行或操作\n",
    "# 本例实际判断stock_day_change[0:2, 0:5]中是至少有一个是上涨的\n",
    "np.any(stock_day_change[0:2, 0:5] > 0)"
   ]
  },
  {
   "cell_type": "code",
   "execution_count": null,
   "metadata": {},
   "outputs": [],
   "source": [
    "# 对两个序列对应的元素两两比较，maximum结果集取大,相对使用minimum为取小的结果集\n",
    "np.maximum(stock_day_change[0:2, 0:5], stock_day_change[-2:, -5:])"
   ]
  },
  {
   "cell_type": "code",
   "execution_count": null,
   "metadata": {},
   "outputs": [],
   "source": [
    "change_int = stock_day_change[0:2, 0:5].astype(int)\n",
    "print(change_int)\n",
    "# 序列中数值值唯一且不重复的值组成新的序列\n",
    "np.unique(change_int)"
   ]
  },
  {
   "cell_type": "code",
   "execution_count": null,
   "metadata": {},
   "outputs": [],
   "source": [
    "# axis＝1\n",
    "np.diff(stock_day_change[0:2, 0:5])"
   ]
  },
  {
   "cell_type": "code",
   "execution_count": null,
   "metadata": {},
   "outputs": [],
   "source": [
    "# 唯一区别 axis=0\n",
    "np.diff(stock_day_change[0:2, 0:5], axis=0)"
   ]
  },
  {
   "cell_type": "code",
   "execution_count": null,
   "metadata": {},
   "outputs": [],
   "source": [
    "tmp_test = stock_day_change[-2:, -5:]\n",
    "print(np.where(tmp_test > 0.5, 1, 0))"
   ]
  },
  {
   "cell_type": "code",
   "execution_count": null,
   "metadata": {},
   "outputs": [],
   "source": [
    "print(np.where(tmp_test > 0.5, 1, tmp_test))"
   ]
  },
  {
   "cell_type": "code",
   "execution_count": null,
   "metadata": {},
   "outputs": [],
   "source": [
    "# 序列中的值大于0.5并且小于1的赋值为1，否则赋值为0\n",
    "np.where(np.logical_and(tmp_test > 0.5, tmp_test < 1), 1, 0)"
   ]
  },
  {
   "cell_type": "code",
   "execution_count": null,
   "metadata": {},
   "outputs": [],
   "source": [
    "# 序列中的值大于0.5或者小于－0.5的赋值为1，否则赋值为0\n",
    "np.where(np.logical_or(tmp_test > 0.5, tmp_test < -0.5), 1, 0)"
   ]
  },
  {
   "cell_type": "markdown",
   "metadata": {},
   "source": [
    "### 3.1.7  数据本地序列化操作"
   ]
  },
  {
   "cell_type": "code",
   "execution_count": null,
   "metadata": {},
   "outputs": [],
   "source": [
    "stock_day_change = np.load('../gen/stock_day_change.npy')\n",
    "\n",
    "np.save('../gen/stock_day_change', stock_day_change)\n",
    "\n",
    "stock_day_change.shape"
   ]
  },
  {
   "cell_type": "markdown",
   "metadata": {},
   "source": [
    "## 3.2 统计概念与函数使用"
   ]
  },
  {
   "cell_type": "markdown",
   "metadata": {},
   "source": [
    "### 3.2.1 统计基础函数使用"
   ]
  },
  {
   "cell_type": "code",
   "execution_count": null,
   "metadata": {},
   "outputs": [],
   "source": [
    "stock_day_change_four = stock_day_change[:4, :4]\n",
    "stock_day_change_four"
   ]
  },
  {
   "cell_type": "code",
   "execution_count": null,
   "metadata": {},
   "outputs": [],
   "source": [
    "print('最大涨幅 {}'.format(np.max(stock_day_change_four, axis=1)))"
   ]
  },
  {
   "cell_type": "code",
   "execution_count": null,
   "metadata": {},
   "outputs": [],
   "source": [
    "print('最大跌幅 {}'.format(np.min(stock_day_change_four, axis=1)))\n",
    "print('振幅幅度 {}'.format(np.std(stock_day_change_four, axis=1)))\n",
    "print('平均涨跌 {}'.format(np.mean(stock_day_change_four, axis=1)))"
   ]
  },
  {
   "cell_type": "code",
   "execution_count": null,
   "metadata": {},
   "outputs": [],
   "source": [
    "print('最大涨幅 {}'.format(np.max(stock_day_change_four, axis=0)))"
   ]
  },
  {
   "cell_type": "code",
   "execution_count": null,
   "metadata": {},
   "outputs": [],
   "source": [
    "print('最大涨幅股票{}'.format(np.argmax(stock_day_change_four, axis=0)))"
   ]
  },
  {
   "cell_type": "code",
   "execution_count": null,
   "metadata": {},
   "outputs": [],
   "source": [
    "print('最大跌幅股票{}'.format(np.argmin(stock_day_change_four, axis=0)))"
   ]
  },
  {
   "cell_type": "code",
   "execution_count": null,
   "metadata": {},
   "outputs": [],
   "source": [
    "print('最大跌幅 {}'.format(np.min(stock_day_change_four, axis=0)))\n",
    "print('振幅幅度 {}'.format(np.std(stock_day_change_four, axis=0)))\n",
    "print('平均涨跌 {}'.format(np.mean(stock_day_change_four, axis=0)))"
   ]
  },
  {
   "cell_type": "markdown",
   "metadata": {},
   "source": [
    "### 3.2.2  统计基础概念"
   ]
  },
  {
   "cell_type": "code",
   "execution_count": null,
   "metadata": {},
   "outputs": [],
   "source": [
    "a_investor = np.random.normal(loc=100, scale=50, size=(100, 1))\n",
    "b_investor = np.random.normal(loc=100, scale=20, size=(100, 1))"
   ]
  },
  {
   "cell_type": "code",
   "execution_count": null,
   "metadata": {},
   "outputs": [],
   "source": [
    "# a交易者\n",
    "print('a交易者期望{0:.2f}元, 标准差{1:.2f}, 方差{2:.2f}'.format(\n",
    "    a_investor.mean(), a_investor.std(), a_investor.var()))\n",
    "\n",
    "# b交易者\n",
    "print('b交易者期望{0:.2f}元, 标准差{1:.2f}, 方差{2:.2f}'.format(\n",
    "    b_investor.mean(), b_investor.std(), b_investor.var()))"
   ]
  },
  {
   "cell_type": "code",
   "execution_count": null,
   "metadata": {},
   "outputs": [],
   "source": [
    "# a交易者期望\n",
    "a_mean = a_investor.mean()\n",
    "# a交易者标注差\n",
    "a_std = a_investor.std()\n",
    "# 收益绘制曲线\n",
    "plt.plot(a_investor)\n",
    "# 水平直线 上线\n",
    "plt.axhline(a_mean + a_std, color='r')\n",
    "# 水平直线 均值期望线\n",
    "plt.axhline(a_mean, color='y')\n",
    "# 水平直线 下线\n",
    "plt.axhline(a_mean - a_std, color='g')"
   ]
  },
  {
   "cell_type": "code",
   "execution_count": null,
   "metadata": {},
   "outputs": [],
   "source": [
    "b_mean = b_investor.mean()\n",
    "b_std = b_investor.std()\n",
    "# b交易者收益绘制曲线\n",
    "plt.plot(b_investor)\n",
    "# 水平直线 上线\n",
    "plt.axhline(b_mean + b_std, color='r')\n",
    "# 水平直线 均值期望线\n",
    "plt.axhline(b_mean, color='y')\n",
    "# 水平直线 下线\n",
    "plt.axhline(b_mean - b_std, color='g')"
   ]
  },
  {
   "cell_type": "markdown",
   "metadata": {},
   "source": [
    "## 3.3  正态分布\n",
    "\n",
    "### 3.3.1 正态分布基础概念"
   ]
  },
  {
   "cell_type": "code",
   "execution_count": null,
   "metadata": {},
   "outputs": [],
   "source": [
    "import scipy.stats as scs\n",
    "\n",
    "# 均值期望\n",
    "stock_mean = stock_day_change[0].mean()\n",
    "# 标准差\n",
    "stock_std = stock_day_change[0].std()\n",
    "print('股票0 mean均值期望:{:.3f}'.format(stock_mean))\n",
    "print('股票0 std振幅标准差:{:.3f}'.format(stock_std))\n",
    "\n",
    "# 绘制股票0的直方图\n",
    "plt.hist(stock_day_change[0], bins=50, normed=True)\n",
    "\n",
    "# linspace从股票0 最小值－> 最大值生成数据\n",
    "fit_linspace = np.linspace(stock_day_change[0].min(),\n",
    "                           stock_day_change[0].max())\n",
    "\n",
    "# 概率密度函数(PDF，probability density function)\n",
    "# 由均值，方差，来描述曲线，使用scipy.stats.norm.pdf生成拟合曲线\n",
    "pdf = scs.norm(stock_mean, stock_std).pdf(fit_linspace)\n",
    "# plot x, y\n",
    "plt.plot(fit_linspace, pdf, lw=2, c='r')"
   ]
  },
  {
   "cell_type": "code",
   "execution_count": null,
   "metadata": {},
   "outputs": [],
   "source": [
    "pdf"
   ]
  },
  {
   "cell_type": "markdown",
   "metadata": {},
   "source": [
    "### 3.3.2  实例1：正态分布买入策略"
   ]
  },
  {
   "cell_type": "code",
   "execution_count": null,
   "metadata": {},
   "outputs": [],
   "source": [
    "# 保留后50天的随机数据作为策略验证数据\n",
    "keep_days = 50\n",
    "# 统计前454, 切片切出0-454day，view_days = 504\n",
    "stock_day_change_test = stock_day_change[:stock_cnt,\n",
    "                        0:view_days - keep_days]\n",
    "# 打印出前454跌幅最大的三支，总跌幅通过np.sum计算，np.sort对结果排序\n",
    "print(np.sort(np.sum(stock_day_change_test, axis=1))[:3])\n",
    "# 使用np.argsort针对股票跌幅进行排序，返回序号，即符合买入条件的股票序号\n",
    "stock_lower_array = np.argsort(np.sum(stock_day_change_test, axis=1))[:3]\n",
    "# 输符合买入条件的股票序号\n",
    "stock_lower_array"
   ]
  },
  {
   "cell_type": "code",
   "execution_count": null,
   "metadata": {},
   "outputs": [],
   "source": [
    "def show_buy_lower(stock_ind):\n",
    "    \"\"\"\n",
    "    :param stock_ind: 股票序号,即在stock_day_change中的位置\n",
    "    :return:\n",
    "    \"\"\"\n",
    "    # 设置一个一行两列的可视化图表\n",
    "    _, axs = plt.subplots(nrows=1, ncols=2, figsize=(16, 5))\n",
    "    # view_days504 - keep_days50 = 454\n",
    "    # 绘制前454天股票走势图，np.cumsum()：序列连续求和\n",
    "    axs[0].plot(np.arange(0, view_days - keep_days),\n",
    "                stock_day_change_test[stock_ind].cumsum())\n",
    "\n",
    "    # [view_days504 - keep_days50 = 454 : view_days504]\n",
    "    # 从第454天开始到504天的股票走势\n",
    "    cs_buy = stock_day_change[stock_ind][\n",
    "             view_days - keep_days:view_days].cumsum()\n",
    "\n",
    "    # 绘制从第454天到504天股票走势图\n",
    "    axs[1].plot(np.arange(view_days - keep_days, view_days), cs_buy)\n",
    "    # 返回从第454天开始到第504天计算盈亏的盈亏序列的最后一个值\n",
    "    return cs_buy[-1]"
   ]
  },
  {
   "cell_type": "code",
   "execution_count": null,
   "metadata": {},
   "outputs": [],
   "source": [
    "# 最后输出的盈亏比例\n",
    "profit = 0\n",
    "# 跌幅最大的三支遍历序号\n",
    "for stock_ind in stock_lower_array:\n",
    "    # profit即三支股票从第454天买入开始计算，直到最后一天的盈亏比例\n",
    "    profit += show_buy_lower(stock_ind)\n",
    "\n",
    "# str.format 支持{:.2f}形式保留两位小数\n",
    "print('买入第 {} 支股票，从第454个交易日开始持有盈亏:{:.2f}%'.format(\n",
    "    stock_lower_array, profit))"
   ]
  },
  {
   "cell_type": "markdown",
   "metadata": {},
   "source": [
    "## 3.4 伯努利分布\n",
    "\n",
    "### 3.4.1  伯努利分布概念"
   ]
  },
  {
   "cell_type": "markdown",
   "metadata": {},
   "source": [
    "### 3.4.2 实例2：如何在交易中获取优势"
   ]
  },
  {
   "cell_type": "code",
   "execution_count": null,
   "metadata": {},
   "outputs": [],
   "source": [
    "# 设置100个赌徒\n",
    "gamblers = 100\n",
    "\n",
    "def casino(win_rate, win_once=1, loss_once=1, commission=0.01):\n",
    "    \"\"\"\n",
    "        赌场：简单设定每个赌徒一共有1000000一共想在赌场玩10000000次，\n",
    "        但是你要是没钱了也别想玩了\n",
    "        win_rate:   输赢的概率\n",
    "        win_once:   每次赢的钱数\n",
    "        loss_once:  每次输的钱数\n",
    "        commission: 手续费这里简单的设置了0.01 1%\n",
    "    \"\"\"\n",
    "    my_money = 1000000\n",
    "    play_cnt = 10000000\n",
    "    commission = commission\n",
    "    for _ in np.arange(0, play_cnt):\n",
    "        # 使用伯努利分布根据win_rate来获取输赢\n",
    "        w = np.random.binomial(1, win_rate)\n",
    "        if w:\n",
    "            # 赢了 +win_once\n",
    "            my_money += win_once\n",
    "        else:\n",
    "            # 输了 -loss_once\n",
    "            my_money -= loss_once\n",
    "        # 手续费\n",
    "        my_money -= commission\n",
    "        if my_money <= 0:\n",
    "            # 没钱就别玩了，不赊账\n",
    "            break\n",
    "    return my_money"
   ]
  },
  {
   "cell_type": "code",
   "execution_count": null,
   "metadata": {},
   "outputs": [],
   "source": [
    "# 如果有numba使用numba进行加速, 这个加速效果非常明显，不使用numba非常非常非常慢\n",
    "import numba as nb\n",
    "casino = nb.jit(casino)"
   ]
  },
  {
   "cell_type": "code",
   "execution_count": null,
   "metadata": {},
   "outputs": [],
   "source": [
    "# 100个赌徒进场天堂赌场，胜率0.5，赔率1，还没手续费 \n",
    "heaven_moneys = [casino(0.5, commission=0) for _ in\n",
    "                 np.arange(0, gamblers)]"
   ]
  },
  {
   "cell_type": "code",
   "execution_count": null,
   "metadata": {},
   "outputs": [],
   "source": [
    "# 100个赌徒进场开始，胜率0.4，赔率1，没手续费 \n",
    "cheat_moneys = [casino(0.4, commission=0) for _ in\n",
    "                np.arange(0, gamblers)]"
   ]
  },
  {
   "cell_type": "code",
   "execution_count": null,
   "metadata": {},
   "outputs": [],
   "source": [
    "# 100个赌徒进场开始，胜率0.5，赔率1，手续费0.01 \n",
    "commission_moneys = [casino(0.5, commission=0.01) for _ in\n",
    "                     np.arange(0, gamblers)]"
   ]
  },
  {
   "cell_type": "code",
   "execution_count": null,
   "metadata": {},
   "outputs": [],
   "source": [
    "_ = plt.hist(heaven_moneys, bins=30)"
   ]
  },
  {
   "cell_type": "code",
   "execution_count": null,
   "metadata": {},
   "outputs": [],
   "source": [
    "_ = plt.hist(cheat_moneys, bins=30)"
   ]
  },
  {
   "cell_type": "code",
   "execution_count": null,
   "metadata": {},
   "outputs": [],
   "source": [
    "_ = plt.hist(commission_moneys, bins=30)"
   ]
  },
  {
   "cell_type": "code",
   "execution_count": null,
   "metadata": {},
   "outputs": [],
   "source": [
    "# 100个赌徒进场开始，胜率0.5，赔率1.04，手续费0.01\n",
    "moneys = [casino(0.5, commission=0.01, win_once=1.02, loss_once=0.98)\n",
    "          for _ in np.arange(0, gamblers)]\n",
    "\n",
    "_ = plt.hist(moneys, bins=30)"
   ]
  },
  {
   "cell_type": "code",
   "execution_count": null,
   "metadata": {},
   "outputs": [],
   "source": [
    "# 100个赌徒进场开始，胜率0.45，赔率1.04，手续费0.01\n",
    "moneys = [casino(0.45, commission=0.01, win_once=1.02, loss_once=0.98)\n",
    "          for _ in np.arange(0, gamblers)]\n",
    "\n",
    "_ = plt.hist(moneys, bins=30)"
   ]
  },
  {
   "cell_type": "code",
   "execution_count": null,
   "metadata": {},
   "outputs": [],
   "source": []
  }
 ],
 "metadata": {
  "anaconda-cloud": {},
  "kernelspec": {
   "display_name": "Python 3",
   "language": "python",
   "name": "python3"
  },
  "language_info": {
   "codemirror_mode": {
    "name": "ipython",
    "version": 3
   },
   "file_extension": ".py",
   "mimetype": "text/x-python",
   "name": "python",
   "nbconvert_exporter": "python",
   "pygments_lexer": "ipython3",
   "version": "3.7.1"
  }
 },
 "nbformat": 4,
 "nbformat_minor": 1
}
